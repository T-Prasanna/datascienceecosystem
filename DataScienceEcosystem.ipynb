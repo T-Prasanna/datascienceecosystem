{
 "cells": [
  {
   "cell_type": "markdown",
   "id": "223cf353",
   "metadata": {},
   "source": [
    "Data Science Tools and Ecosystem"
   ]
  },
  {
   "cell_type": "markdown",
   "id": "09d10bd6",
   "metadata": {},
   "source": [
    "INTRODUCTION:\n",
    "In this notebook, Data Science Tools and Ecosystem are summarized\n"
   ]
  },
  {
   "cell_type": "markdown",
   "id": "c7494103",
   "metadata": {},
   "source": [
    "LIST DATA SCIENCE LANGUAGES :\n",
    "\n",
    "Some of the popular languages that Data Scientists use are:\n",
    "\n",
    "1. Python\n",
    "2. R\n",
    "3. SQL\n",
    "4. Julia\n",
    "5. Scala\n"
   ]
  },
  {
   "cell_type": "markdown",
   "id": "88c35b68",
   "metadata": {},
   "source": [
    "Some of the commonly used libraries used by Data Scientists include:\n",
    "\n",
    "1. NumPy\n",
    "2. Pandas\n",
    "3. Matplotlib\n",
    "4. Scikit-learn\n",
    "5. TensorFlow\n"
   ]
  },
  {
   "cell_type": "markdown",
   "id": "fd45a181",
   "metadata": {},
   "source": [
    "# | Data Science Tools          |\n",
    "|-----------------------------|\n",
    "| Jupyter Notebook            |\n",
    "| RStudio                     |\n",
    "| Apache Zeppelin             |\n"
   ]
  },
  {
   "cell_type": "markdown",
   "id": "6c829b3e",
   "metadata": {},
   "source": [
    "### Below are a few examples of evaluating arithmetic expressions in Python.\n"
   ]
  },
  {
   "cell_type": "markdown",
   "id": "628dfb09",
   "metadata": {},
   "source": [
    "# introducing arithmetic expression examples\n"
   ]
  },
  {
   "cell_type": "markdown",
   "id": "605dade9",
   "metadata": {},
   "source": [
    "# Below are a few examples of evaluating arithmetic expressions in Python."
   ]
  },
  {
   "cell_type": "code",
   "execution_count": 2,
   "id": "e0980289",
   "metadata": {},
   "outputs": [
    {
     "data": {
      "text/plain": [
       "17"
      ]
     },
     "execution_count": 2,
     "metadata": {},
     "output_type": "execute_result"
    }
   ],
   "source": [
    "# This is a simple arithmetic expression to multiply then add integers.\n",
    "(3*4)+5"
   ]
  },
  {
   "cell_type": "code",
   "execution_count": 3,
   "id": "0ba57108",
   "metadata": {},
   "outputs": [
    {
     "data": {
      "text/plain": [
       "3.3333333333333335"
      ]
     },
     "execution_count": 3,
     "metadata": {},
     "output_type": "execute_result"
    }
   ],
   "source": [
    "# This will convert 200 minutes to hours by dividing by 60.\n",
    "200 / 60\n"
   ]
  },
  {
   "cell_type": "markdown",
   "id": "fd946492",
   "metadata": {},
   "source": [
    "**Objectives:**\n",
    "\n",
    "- List popular languages for Data Science\n",
    "- List commonly used libraries in Data Science\n",
    "- Create tables to summarize data\n",
    "- Perform basic arithmetic operations in Python\n",
    "- Convert units (e.g., minutes to hours)\n"
   ]
  },
  {
   "cell_type": "markdown",
   "id": "fc24fa53",
   "metadata": {},
   "source": [
    "# Author\n",
    "Lakshmi Holla\n",
    "\n",
    "TEEMARA PRASANNA KUMARI\n",
    "\n",
    "\n"
   ]
  }
 ],
 "metadata": {
  "kernelspec": {
   "display_name": "Python 3 (ipykernel)",
   "language": "python",
   "name": "python3"
  },
  "language_info": {
   "codemirror_mode": {
    "name": "ipython",
    "version": 3
   },
   "file_extension": ".py",
   "mimetype": "text/x-python",
   "name": "python",
   "nbconvert_exporter": "python",
   "pygments_lexer": "ipython3",
   "version": "3.11.5"
  }
 },
 "nbformat": 4,
 "nbformat_minor": 5
}
